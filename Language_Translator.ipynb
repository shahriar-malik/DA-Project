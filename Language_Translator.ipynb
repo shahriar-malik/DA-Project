{
 "cells": [
  {
   "cell_type": "markdown",
   "id": "e3e7b289-afb3-4bc9-a950-dedeea284756",
   "metadata": {},
   "source": [
    "# <u>Language Translator</u>"
   ]
  },
  {
   "cell_type": "code",
   "execution_count": 6,
   "id": "c330d192-b6b9-4152-852b-23e257d28af8",
   "metadata": {},
   "outputs": [],
   "source": [
    "# Importing the libraries and Tools\n",
    "import pandas as pd\n",
    "import re\n",
    "import nltk\n",
    "from nltk.translate import AlignedSent, IBMModel1"
   ]
  },
  {
   "cell_type": "code",
   "execution_count": 7,
   "id": "3cd2d880-6ca5-43d9-af92-5897e3ab94f8",
   "metadata": {},
   "outputs": [],
   "source": [
    "# Load the Data\n",
    "df = pd.read_csv(\"./data.csv\")"
   ]
  },
  {
   "cell_type": "code",
   "execution_count": 8,
   "id": "5bf5a66a-76b8-4d43-a2cb-ce92f0109a91",
   "metadata": {},
   "outputs": [
    {
     "data": {
      "text/plain": [
       "(118964, 2)"
      ]
     },
     "execution_count": 8,
     "metadata": {},
     "output_type": "execute_result"
    }
   ],
   "source": [
    "#This gives the no. of rows and columns present in the dataset.\n",
    "df.shape"
   ]
  },
  {
   "cell_type": "code",
   "execution_count": 9,
   "id": "fa0ed59b-ead6-40e4-92bf-6dcfb6880cbe",
   "metadata": {},
   "outputs": [
    {
     "data": {
      "text/html": [
       "<div>\n",
       "<style scoped>\n",
       "    .dataframe tbody tr th:only-of-type {\n",
       "        vertical-align: middle;\n",
       "    }\n",
       "\n",
       "    .dataframe tbody tr th {\n",
       "        vertical-align: top;\n",
       "    }\n",
       "\n",
       "    .dataframe thead th {\n",
       "        text-align: right;\n",
       "    }\n",
       "</style>\n",
       "<table border=\"1\" class=\"dataframe\">\n",
       "  <thead>\n",
       "    <tr style=\"text-align: right;\">\n",
       "      <th></th>\n",
       "      <th>english</th>\n",
       "      <th>spanish</th>\n",
       "    </tr>\n",
       "  </thead>\n",
       "  <tbody>\n",
       "    <tr>\n",
       "      <th>0</th>\n",
       "      <td>Go.</td>\n",
       "      <td>Ve.</td>\n",
       "    </tr>\n",
       "    <tr>\n",
       "      <th>1</th>\n",
       "      <td>Go.</td>\n",
       "      <td>Vete.</td>\n",
       "    </tr>\n",
       "    <tr>\n",
       "      <th>2</th>\n",
       "      <td>Go.</td>\n",
       "      <td>Vaya.</td>\n",
       "    </tr>\n",
       "    <tr>\n",
       "      <th>3</th>\n",
       "      <td>Go.</td>\n",
       "      <td>Váyase.</td>\n",
       "    </tr>\n",
       "    <tr>\n",
       "      <th>4</th>\n",
       "      <td>Hi.</td>\n",
       "      <td>Hola.</td>\n",
       "    </tr>\n",
       "  </tbody>\n",
       "</table>\n",
       "</div>"
      ],
      "text/plain": [
       "  english  spanish\n",
       "0     Go.      Ve.\n",
       "1     Go.    Vete.\n",
       "2     Go.    Vaya.\n",
       "3     Go.  Váyase.\n",
       "4     Hi.    Hola."
      ]
     },
     "execution_count": 9,
     "metadata": {},
     "output_type": "execute_result"
    }
   ],
   "source": [
    "#This gives first 5 values in the dataset\n",
    "df.head()"
   ]
  },
  {
   "cell_type": "code",
   "execution_count": 10,
   "id": "4b834643-f57c-4963-b731-7c9ff10a65f4",
   "metadata": {},
   "outputs": [
    {
     "data": {
      "text/html": [
       "<div>\n",
       "<style scoped>\n",
       "    .dataframe tbody tr th:only-of-type {\n",
       "        vertical-align: middle;\n",
       "    }\n",
       "\n",
       "    .dataframe tbody tr th {\n",
       "        vertical-align: top;\n",
       "    }\n",
       "\n",
       "    .dataframe thead th {\n",
       "        text-align: right;\n",
       "    }\n",
       "</style>\n",
       "<table border=\"1\" class=\"dataframe\">\n",
       "  <thead>\n",
       "    <tr style=\"text-align: right;\">\n",
       "      <th></th>\n",
       "      <th>english</th>\n",
       "      <th>spanish</th>\n",
       "    </tr>\n",
       "  </thead>\n",
       "  <tbody>\n",
       "    <tr>\n",
       "      <th>118959</th>\n",
       "      <td>There are four main causes of alcohol-related ...</td>\n",
       "      <td>Hay cuatro causas principales de muertes relac...</td>\n",
       "    </tr>\n",
       "    <tr>\n",
       "      <th>118960</th>\n",
       "      <td>There are mothers and fathers who will lie awa...</td>\n",
       "      <td>Hay madres y padres que se quedan despiertos d...</td>\n",
       "    </tr>\n",
       "    <tr>\n",
       "      <th>118961</th>\n",
       "      <td>A carbon footprint is the amount of carbon dio...</td>\n",
       "      <td>Una huella de carbono es la cantidad de contam...</td>\n",
       "    </tr>\n",
       "    <tr>\n",
       "      <th>118962</th>\n",
       "      <td>Since there are usually multiple websites on a...</td>\n",
       "      <td>Como suele haber varias páginas web sobre cual...</td>\n",
       "    </tr>\n",
       "    <tr>\n",
       "      <th>118963</th>\n",
       "      <td>If you want to sound like a native speaker, yo...</td>\n",
       "      <td>Si quieres sonar como un hablante nativo, debe...</td>\n",
       "    </tr>\n",
       "  </tbody>\n",
       "</table>\n",
       "</div>"
      ],
      "text/plain": [
       "                                                  english  \\\n",
       "118959  There are four main causes of alcohol-related ...   \n",
       "118960  There are mothers and fathers who will lie awa...   \n",
       "118961  A carbon footprint is the amount of carbon dio...   \n",
       "118962  Since there are usually multiple websites on a...   \n",
       "118963  If you want to sound like a native speaker, yo...   \n",
       "\n",
       "                                                  spanish  \n",
       "118959  Hay cuatro causas principales de muertes relac...  \n",
       "118960  Hay madres y padres que se quedan despiertos d...  \n",
       "118961  Una huella de carbono es la cantidad de contam...  \n",
       "118962  Como suele haber varias páginas web sobre cual...  \n",
       "118963  Si quieres sonar como un hablante nativo, debe...  "
      ]
     },
     "execution_count": 10,
     "metadata": {},
     "output_type": "execute_result"
    }
   ],
   "source": [
    "#This gives first 5 values in the dataset\n",
    "df.tail()"
   ]
  },
  {
   "cell_type": "code",
   "execution_count": 11,
   "id": "977eb91c-68aa-4f93-8ee5-187d0b7e1478",
   "metadata": {},
   "outputs": [
    {
     "data": {
      "text/html": [
       "<div>\n",
       "<style scoped>\n",
       "    .dataframe tbody tr th:only-of-type {\n",
       "        vertical-align: middle;\n",
       "    }\n",
       "\n",
       "    .dataframe tbody tr th {\n",
       "        vertical-align: top;\n",
       "    }\n",
       "\n",
       "    .dataframe thead th {\n",
       "        text-align: right;\n",
       "    }\n",
       "</style>\n",
       "<table border=\"1\" class=\"dataframe\">\n",
       "  <thead>\n",
       "    <tr style=\"text-align: right;\">\n",
       "      <th></th>\n",
       "      <th>english</th>\n",
       "      <th>spanish</th>\n",
       "    </tr>\n",
       "  </thead>\n",
       "  <tbody>\n",
       "    <tr>\n",
       "      <th>count</th>\n",
       "      <td>118964</td>\n",
       "      <td>118964</td>\n",
       "    </tr>\n",
       "    <tr>\n",
       "      <th>unique</th>\n",
       "      <td>102904</td>\n",
       "      <td>113322</td>\n",
       "    </tr>\n",
       "    <tr>\n",
       "      <th>top</th>\n",
       "      <td>I could kill you.</td>\n",
       "      <td>Ahora tengo que irme.</td>\n",
       "    </tr>\n",
       "    <tr>\n",
       "      <th>freq</th>\n",
       "      <td>24</td>\n",
       "      <td>9</td>\n",
       "    </tr>\n",
       "  </tbody>\n",
       "</table>\n",
       "</div>"
      ],
      "text/plain": [
       "                  english                spanish\n",
       "count              118964                 118964\n",
       "unique             102904                 113322\n",
       "top     I could kill you.  Ahora tengo que irme.\n",
       "freq                   24                      9"
      ]
     },
     "execution_count": 11,
     "metadata": {},
     "output_type": "execute_result"
    }
   ],
   "source": [
    "#These statistics help you understand the distribution and characteristics of categorical or non-numeric data in your DataFrame.\n",
    "df.describe()"
   ]
  },
  {
   "cell_type": "markdown",
   "id": "5787b9e6-d719-45d0-a106-d2c5aab85cf0",
   "metadata": {},
   "source": [
    "### Performing Data Analytics operations\n",
    "\n",
    "This include preprocessing the data using nltk, training the transational model using IBM model 1, and for the output language translatiopn is done"
   ]
  },
  {
   "cell_type": "markdown",
   "id": "c91643ab-f615-4643-b0e8-7d5e18fd4f1a",
   "metadata": {},
   "source": [
    "##### Preprocessing Data"
   ]
  },
  {
   "cell_type": "code",
   "execution_count": 12,
   "id": "33be03d6-7439-4e40-9442-205b1a742b77",
   "metadata": {},
   "outputs": [],
   "source": [
    "english_sentences = df['english'].tolist()\n",
    "spanish_sentences = df['spanish'].tolist()\n",
    "def clean_sentences(sentences):\n",
    "    cleaned_sentences = []\n",
    "    for sentence in sentences:\n",
    "        sentence = sentence.strip()\n",
    "        sentence = sentence.lower()\n",
    "        sentence = re.sub(r\"[^a-zA-Z0-9]+\", \" \", sentence)\n",
    "        cleaned_sentences.append(sentence.strip())\n",
    "    return cleaned_sentences\n",
    "cleaned_english_sentences = clean_sentences(english_sentences)\n",
    "cleaned_spanish_sentences = clean_sentences(spanish_sentences)"
   ]
  },
  {
   "cell_type": "markdown",
   "id": "0b52259e-5d4c-4ec0-814c-e2dcc0aae811",
   "metadata": {},
   "source": [
    "##### Training the model"
   ]
  },
  {
   "cell_type": "code",
   "execution_count": 13,
   "id": "9397f5f4-059f-4ad0-ba52-efe5fbf3b378",
   "metadata": {},
   "outputs": [],
   "source": [
    "def train_translation_model(source_sentences, target_sentences):\n",
    "    aligned_sentences = [AlignedSent(source.split(), target.split()) for source, target in zip(source_sentences, target_sentences)]\n",
    "    ibm_model = IBMModel1(aligned_sentences, 10)\n",
    "    return ibm_model\n",
    "translation_model = train_translation_model(cleaned_english_sentences, cleaned_spanish_sentences)"
   ]
  },
  {
   "cell_type": "markdown",
   "id": "65cc9e5a-c23a-4665-970f-57bd744f1184",
   "metadata": {},
   "source": [
    "##### Translating input sentences"
   ]
  },
  {
   "cell_type": "code",
   "execution_count": null,
   "id": "bf436aad-bf4b-42bc-814e-a591d2ab5272",
   "metadata": {},
   "outputs": [],
   "source": [
    "def translate_input(ibm_model):\n",
    "    print(\"running translate input\")\n",
    "    while True:\n",
    "        source_text = input(\"Enter the English sentence to translate (or 'q' to quit): \")\n",
    "        if source_text.lower() == 'q':\n",
    "            print(\"Quitting...\")\n",
    "            break\n",
    "        cleaned_text = clean_sentences(source_text.split())\n",
    "        source_words = cleaned_text\n",
    "        translated_words = []\n",
    "        for source_word in source_words:\n",
    "            max_prob = 0.0\n",
    "            translated_word = None\n",
    "            for target_word in ibm_model.translation_table[source_word]:\n",
    "                prob = ibm_model.translation_table[source_word][target_word]\n",
    "                if prob > max_prob:\n",
    "                    max_prob = prob\n",
    "                    translated_word = target_word\n",
    "            if translated_word is not None:\n",
    "                translated_words.append(translated_word)\n",
    "        translated_text = ' '.join(translated_words)\n",
    "        print(\"Translated text:\", translated_text)\n",
    "        print()\n",
    "\n",
    "translate_input(translation_model)\n"
   ]
  },
  {
   "cell_type": "code",
   "execution_count": null,
   "id": "610fabc8-ab86-47f2-8b9a-920f1e33210b",
   "metadata": {},
   "outputs": [],
   "source": []
  }
 ],
 "metadata": {
  "kernelspec": {
   "display_name": "Python 3 (ipykernel)",
   "language": "python",
   "name": "python3"
  },
  "language_info": {
   "codemirror_mode": {
    "name": "ipython",
    "version": 3
   },
   "file_extension": ".py",
   "mimetype": "text/x-python",
   "name": "python",
   "nbconvert_exporter": "python",
   "pygments_lexer": "ipython3",
   "version": "3.11.5"
  }
 },
 "nbformat": 4,
 "nbformat_minor": 5
}
